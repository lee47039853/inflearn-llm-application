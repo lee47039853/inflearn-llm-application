{
 "cells": [
  {
   "cell_type": "code",
   "execution_count": 1,
   "metadata": {},
   "outputs": [
    {
     "name": "stdout",
     "output_type": "stream",
     "text": [
      "Requirement already satisfied: python-dotenv in c:\\users\\82104\\vscodeprojects\\llm\\inflearn-llm-application\\lib\\site-packages (1.1.0)\n",
      "Requirement already satisfied: docx2txt in c:\\users\\82104\\vscodeprojects\\llm\\inflearn-llm-application\\lib\\site-packages (0.9)\n",
      "Requirement already satisfied: langchain_community in c:\\users\\82104\\vscodeprojects\\llm\\inflearn-llm-application\\lib\\site-packages (0.3.26)\n",
      "Requirement already satisfied: langchain-text-splitters in c:\\users\\82104\\vscodeprojects\\llm\\inflearn-llm-application\\lib\\site-packages (0.3.8)\n",
      "Requirement already satisfied: langchain-chroma in c:\\users\\82104\\vscodeprojects\\llm\\inflearn-llm-application\\lib\\site-packages (0.2.4)\n",
      "Requirement already satisfied: google-generativeai in c:\\users\\82104\\vscodeprojects\\llm\\inflearn-llm-application\\lib\\site-packages (0.8.5)\n",
      "Requirement already satisfied: langchain-google-genai in c:\\users\\82104\\vscodeprojects\\llm\\inflearn-llm-application\\lib\\site-packages (2.0.10)\n",
      "Requirement already satisfied: langchain-core<1.0.0,>=0.3.66 in c:\\users\\82104\\vscodeprojects\\llm\\inflearn-llm-application\\lib\\site-packages (from langchain_community) (0.3.66)\n",
      "Requirement already satisfied: langchain<1.0.0,>=0.3.26 in c:\\users\\82104\\vscodeprojects\\llm\\inflearn-llm-application\\lib\\site-packages (from langchain_community) (0.3.26)\n",
      "Requirement already satisfied: SQLAlchemy<3,>=1.4 in c:\\users\\82104\\vscodeprojects\\llm\\inflearn-llm-application\\lib\\site-packages (from langchain_community) (2.0.41)\n",
      "Requirement already satisfied: requests<3,>=2 in c:\\users\\82104\\vscodeprojects\\llm\\inflearn-llm-application\\lib\\site-packages (from langchain_community) (2.32.4)\n",
      "Requirement already satisfied: PyYAML>=5.3 in c:\\users\\82104\\vscodeprojects\\llm\\inflearn-llm-application\\lib\\site-packages (from langchain_community) (6.0.2)\n",
      "Requirement already satisfied: aiohttp<4.0.0,>=3.8.3 in c:\\users\\82104\\vscodeprojects\\llm\\inflearn-llm-application\\lib\\site-packages (from langchain_community) (3.12.13)\n",
      "Requirement already satisfied: tenacity!=8.4.0,<10,>=8.1.0 in c:\\users\\82104\\vscodeprojects\\llm\\inflearn-llm-application\\lib\\site-packages (from langchain_community) (9.1.2)\n",
      "Requirement already satisfied: dataclasses-json<0.7,>=0.5.7 in c:\\users\\82104\\vscodeprojects\\llm\\inflearn-llm-application\\lib\\site-packages (from langchain_community) (0.6.7)\n",
      "Requirement already satisfied: pydantic-settings<3.0.0,>=2.4.0 in c:\\users\\82104\\vscodeprojects\\llm\\inflearn-llm-application\\lib\\site-packages (from langchain_community) (2.10.0)\n",
      "Requirement already satisfied: langsmith>=0.1.125 in c:\\users\\82104\\vscodeprojects\\llm\\inflearn-llm-application\\lib\\site-packages (from langchain_community) (0.4.1)\n",
      "Requirement already satisfied: httpx-sse<1.0.0,>=0.4.0 in c:\\users\\82104\\vscodeprojects\\llm\\inflearn-llm-application\\lib\\site-packages (from langchain_community) (0.4.0)\n",
      "Requirement already satisfied: numpy>=1.26.2 in c:\\users\\82104\\vscodeprojects\\llm\\inflearn-llm-application\\lib\\site-packages (from langchain_community) (2.3.1)\n",
      "Requirement already satisfied: chromadb>=1.0.9 in c:\\users\\82104\\vscodeprojects\\llm\\inflearn-llm-application\\lib\\site-packages (from langchain-chroma) (1.0.13)\n",
      "Requirement already satisfied: google-ai-generativelanguage==0.6.15 in c:\\users\\82104\\vscodeprojects\\llm\\inflearn-llm-application\\lib\\site-packages (from google-generativeai) (0.6.15)\n",
      "Requirement already satisfied: google-api-core in c:\\users\\82104\\vscodeprojects\\llm\\inflearn-llm-application\\lib\\site-packages (from google-generativeai) (2.25.1)\n",
      "Requirement already satisfied: google-api-python-client in c:\\users\\82104\\vscodeprojects\\llm\\inflearn-llm-application\\lib\\site-packages (from google-generativeai) (2.173.0)\n",
      "Requirement already satisfied: google-auth>=2.15.0 in c:\\users\\82104\\vscodeprojects\\llm\\inflearn-llm-application\\lib\\site-packages (from google-generativeai) (2.40.3)\n",
      "Requirement already satisfied: protobuf in c:\\users\\82104\\vscodeprojects\\llm\\inflearn-llm-application\\lib\\site-packages (from google-generativeai) (5.29.5)\n",
      "Requirement already satisfied: pydantic in c:\\users\\82104\\vscodeprojects\\llm\\inflearn-llm-application\\lib\\site-packages (from google-generativeai) (2.11.7)\n",
      "Requirement already satisfied: tqdm in c:\\users\\82104\\vscodeprojects\\llm\\inflearn-llm-application\\lib\\site-packages (from google-generativeai) (4.67.1)\n",
      "Requirement already satisfied: typing-extensions in c:\\users\\82104\\vscodeprojects\\llm\\inflearn-llm-application\\lib\\site-packages (from google-generativeai) (4.14.0)\n",
      "Requirement already satisfied: proto-plus<2.0.0dev,>=1.22.3 in c:\\users\\82104\\vscodeprojects\\llm\\inflearn-llm-application\\lib\\site-packages (from google-ai-generativelanguage==0.6.15->google-generativeai) (1.26.1)\n",
      "Requirement already satisfied: filetype<2.0.0,>=1.2.0 in c:\\users\\82104\\vscodeprojects\\llm\\inflearn-llm-application\\lib\\site-packages (from langchain-google-genai) (1.2.0)\n",
      "Requirement already satisfied: aiohappyeyeballs>=2.5.0 in c:\\users\\82104\\vscodeprojects\\llm\\inflearn-llm-application\\lib\\site-packages (from aiohttp<4.0.0,>=3.8.3->langchain_community) (2.6.1)\n",
      "Requirement already satisfied: aiosignal>=1.1.2 in c:\\users\\82104\\vscodeprojects\\llm\\inflearn-llm-application\\lib\\site-packages (from aiohttp<4.0.0,>=3.8.3->langchain_community) (1.3.2)\n",
      "Requirement already satisfied: attrs>=17.3.0 in c:\\users\\82104\\vscodeprojects\\llm\\inflearn-llm-application\\lib\\site-packages (from aiohttp<4.0.0,>=3.8.3->langchain_community) (25.3.0)\n",
      "Requirement already satisfied: frozenlist>=1.1.1 in c:\\users\\82104\\vscodeprojects\\llm\\inflearn-llm-application\\lib\\site-packages (from aiohttp<4.0.0,>=3.8.3->langchain_community) (1.7.0)\n",
      "Requirement already satisfied: multidict<7.0,>=4.5 in c:\\users\\82104\\vscodeprojects\\llm\\inflearn-llm-application\\lib\\site-packages (from aiohttp<4.0.0,>=3.8.3->langchain_community) (6.5.0)\n",
      "Requirement already satisfied: propcache>=0.2.0 in c:\\users\\82104\\vscodeprojects\\llm\\inflearn-llm-application\\lib\\site-packages (from aiohttp<4.0.0,>=3.8.3->langchain_community) (0.3.2)\n",
      "Requirement already satisfied: yarl<2.0,>=1.17.0 in c:\\users\\82104\\vscodeprojects\\llm\\inflearn-llm-application\\lib\\site-packages (from aiohttp<4.0.0,>=3.8.3->langchain_community) (1.20.1)\n",
      "Requirement already satisfied: build>=1.0.3 in c:\\users\\82104\\vscodeprojects\\llm\\inflearn-llm-application\\lib\\site-packages (from chromadb>=1.0.9->langchain-chroma) (1.2.2.post1)\n",
      "Requirement already satisfied: pybase64>=1.4.1 in c:\\users\\82104\\vscodeprojects\\llm\\inflearn-llm-application\\lib\\site-packages (from chromadb>=1.0.9->langchain-chroma) (1.4.1)\n",
      "Requirement already satisfied: uvicorn[standard]>=0.18.3 in c:\\users\\82104\\vscodeprojects\\llm\\inflearn-llm-application\\lib\\site-packages (from chromadb>=1.0.9->langchain-chroma) (0.34.3)\n",
      "Requirement already satisfied: posthog>=2.4.0 in c:\\users\\82104\\vscodeprojects\\llm\\inflearn-llm-application\\lib\\site-packages (from chromadb>=1.0.9->langchain-chroma) (5.4.0)\n",
      "Requirement already satisfied: onnxruntime>=1.14.1 in c:\\users\\82104\\vscodeprojects\\llm\\inflearn-llm-application\\lib\\site-packages (from chromadb>=1.0.9->langchain-chroma) (1.22.0)\n",
      "Requirement already satisfied: opentelemetry-api>=1.2.0 in c:\\users\\82104\\vscodeprojects\\llm\\inflearn-llm-application\\lib\\site-packages (from chromadb>=1.0.9->langchain-chroma) (1.34.1)\n",
      "Requirement already satisfied: opentelemetry-exporter-otlp-proto-grpc>=1.2.0 in c:\\users\\82104\\vscodeprojects\\llm\\inflearn-llm-application\\lib\\site-packages (from chromadb>=1.0.9->langchain-chroma) (1.34.1)\n",
      "Requirement already satisfied: opentelemetry-sdk>=1.2.0 in c:\\users\\82104\\vscodeprojects\\llm\\inflearn-llm-application\\lib\\site-packages (from chromadb>=1.0.9->langchain-chroma) (1.34.1)\n",
      "Requirement already satisfied: tokenizers>=0.13.2 in c:\\users\\82104\\vscodeprojects\\llm\\inflearn-llm-application\\lib\\site-packages (from chromadb>=1.0.9->langchain-chroma) (0.21.1)\n",
      "Requirement already satisfied: pypika>=0.48.9 in c:\\users\\82104\\vscodeprojects\\llm\\inflearn-llm-application\\lib\\site-packages (from chromadb>=1.0.9->langchain-chroma) (0.48.9)\n",
      "Requirement already satisfied: overrides>=7.3.1 in c:\\users\\82104\\vscodeprojects\\llm\\inflearn-llm-application\\lib\\site-packages (from chromadb>=1.0.9->langchain-chroma) (7.7.0)\n",
      "Requirement already satisfied: importlib-resources in c:\\users\\82104\\vscodeprojects\\llm\\inflearn-llm-application\\lib\\site-packages (from chromadb>=1.0.9->langchain-chroma) (6.5.2)\n",
      "Requirement already satisfied: grpcio>=1.58.0 in c:\\users\\82104\\vscodeprojects\\llm\\inflearn-llm-application\\lib\\site-packages (from chromadb>=1.0.9->langchain-chroma) (1.73.0)\n",
      "Requirement already satisfied: bcrypt>=4.0.1 in c:\\users\\82104\\vscodeprojects\\llm\\inflearn-llm-application\\lib\\site-packages (from chromadb>=1.0.9->langchain-chroma) (4.3.0)\n",
      "Requirement already satisfied: typer>=0.9.0 in c:\\users\\82104\\vscodeprojects\\llm\\inflearn-llm-application\\lib\\site-packages (from chromadb>=1.0.9->langchain-chroma) (0.16.0)\n",
      "Requirement already satisfied: kubernetes>=28.1.0 in c:\\users\\82104\\vscodeprojects\\llm\\inflearn-llm-application\\lib\\site-packages (from chromadb>=1.0.9->langchain-chroma) (33.1.0)\n",
      "Requirement already satisfied: mmh3>=4.0.1 in c:\\users\\82104\\vscodeprojects\\llm\\inflearn-llm-application\\lib\\site-packages (from chromadb>=1.0.9->langchain-chroma) (5.1.0)\n",
      "Requirement already satisfied: orjson>=3.9.12 in c:\\users\\82104\\vscodeprojects\\llm\\inflearn-llm-application\\lib\\site-packages (from chromadb>=1.0.9->langchain-chroma) (3.10.18)\n",
      "Requirement already satisfied: httpx>=0.27.0 in c:\\users\\82104\\vscodeprojects\\llm\\inflearn-llm-application\\lib\\site-packages (from chromadb>=1.0.9->langchain-chroma) (0.28.1)\n",
      "Requirement already satisfied: rich>=10.11.0 in c:\\users\\82104\\vscodeprojects\\llm\\inflearn-llm-application\\lib\\site-packages (from chromadb>=1.0.9->langchain-chroma) (14.0.0)\n",
      "Requirement already satisfied: jsonschema>=4.19.0 in c:\\users\\82104\\vscodeprojects\\llm\\inflearn-llm-application\\lib\\site-packages (from chromadb>=1.0.9->langchain-chroma) (4.24.0)\n",
      "Requirement already satisfied: marshmallow<4.0.0,>=3.18.0 in c:\\users\\82104\\vscodeprojects\\llm\\inflearn-llm-application\\lib\\site-packages (from dataclasses-json<0.7,>=0.5.7->langchain_community) (3.26.1)\n",
      "Requirement already satisfied: typing-inspect<1,>=0.4.0 in c:\\users\\82104\\vscodeprojects\\llm\\inflearn-llm-application\\lib\\site-packages (from dataclasses-json<0.7,>=0.5.7->langchain_community) (0.9.0)\n",
      "Requirement already satisfied: cachetools<6.0,>=2.0.0 in c:\\users\\82104\\vscodeprojects\\llm\\inflearn-llm-application\\lib\\site-packages (from google-auth>=2.15.0->google-generativeai) (5.5.2)\n",
      "Requirement already satisfied: pyasn1-modules>=0.2.1 in c:\\users\\82104\\vscodeprojects\\llm\\inflearn-llm-application\\lib\\site-packages (from google-auth>=2.15.0->google-generativeai) (0.4.2)\n",
      "Requirement already satisfied: rsa<5,>=3.1.4 in c:\\users\\82104\\vscodeprojects\\llm\\inflearn-llm-application\\lib\\site-packages (from google-auth>=2.15.0->google-generativeai) (4.9.1)\n",
      "Requirement already satisfied: jsonpatch<2.0,>=1.33 in c:\\users\\82104\\vscodeprojects\\llm\\inflearn-llm-application\\lib\\site-packages (from langchain-core<1.0.0,>=0.3.66->langchain_community) (1.33)\n",
      "Requirement already satisfied: packaging<25,>=23.2 in c:\\users\\82104\\vscodeprojects\\llm\\inflearn-llm-application\\lib\\site-packages (from langchain-core<1.0.0,>=0.3.66->langchain_community) (24.2)\n",
      "Requirement already satisfied: requests-toolbelt<2.0.0,>=1.0.0 in c:\\users\\82104\\vscodeprojects\\llm\\inflearn-llm-application\\lib\\site-packages (from langsmith>=0.1.125->langchain_community) (1.0.0)\n",
      "Requirement already satisfied: zstandard<0.24.0,>=0.23.0 in c:\\users\\82104\\vscodeprojects\\llm\\inflearn-llm-application\\lib\\site-packages (from langsmith>=0.1.125->langchain_community) (0.23.0)\n",
      "Requirement already satisfied: annotated-types>=0.6.0 in c:\\users\\82104\\vscodeprojects\\llm\\inflearn-llm-application\\lib\\site-packages (from pydantic->google-generativeai) (0.7.0)\n",
      "Requirement already satisfied: pydantic-core==2.33.2 in c:\\users\\82104\\vscodeprojects\\llm\\inflearn-llm-application\\lib\\site-packages (from pydantic->google-generativeai) (2.33.2)\n",
      "Requirement already satisfied: typing-inspection>=0.4.0 in c:\\users\\82104\\vscodeprojects\\llm\\inflearn-llm-application\\lib\\site-packages (from pydantic->google-generativeai) (0.4.1)\n",
      "Requirement already satisfied: charset_normalizer<4,>=2 in c:\\users\\82104\\vscodeprojects\\llm\\inflearn-llm-application\\lib\\site-packages (from requests<3,>=2->langchain_community) (3.4.2)\n",
      "Requirement already satisfied: idna<4,>=2.5 in c:\\users\\82104\\vscodeprojects\\llm\\inflearn-llm-application\\lib\\site-packages (from requests<3,>=2->langchain_community) (3.10)\n",
      "Requirement already satisfied: urllib3<3,>=1.21.1 in c:\\users\\82104\\vscodeprojects\\llm\\inflearn-llm-application\\lib\\site-packages (from requests<3,>=2->langchain_community) (2.5.0)\n",
      "Requirement already satisfied: certifi>=2017.4.17 in c:\\users\\82104\\vscodeprojects\\llm\\inflearn-llm-application\\lib\\site-packages (from requests<3,>=2->langchain_community) (2025.6.15)\n",
      "Requirement already satisfied: greenlet>=1 in c:\\users\\82104\\vscodeprojects\\llm\\inflearn-llm-application\\lib\\site-packages (from SQLAlchemy<3,>=1.4->langchain_community) (3.2.3)\n",
      "Requirement already satisfied: colorama in c:\\users\\82104\\vscodeprojects\\llm\\inflearn-llm-application\\lib\\site-packages (from tqdm->google-generativeai) (0.4.6)\n",
      "Requirement already satisfied: googleapis-common-protos<2.0.0,>=1.56.2 in c:\\users\\82104\\vscodeprojects\\llm\\inflearn-llm-application\\lib\\site-packages (from google-api-core->google-generativeai) (1.70.0)\n",
      "Requirement already satisfied: httplib2<1.0.0,>=0.19.0 in c:\\users\\82104\\vscodeprojects\\llm\\inflearn-llm-application\\lib\\site-packages (from google-api-python-client->google-generativeai) (0.22.0)\n",
      "Requirement already satisfied: google-auth-httplib2<1.0.0,>=0.2.0 in c:\\users\\82104\\vscodeprojects\\llm\\inflearn-llm-application\\lib\\site-packages (from google-api-python-client->google-generativeai) (0.2.0)\n",
      "Requirement already satisfied: uritemplate<5,>=3.0.1 in c:\\users\\82104\\vscodeprojects\\llm\\inflearn-llm-application\\lib\\site-packages (from google-api-python-client->google-generativeai) (4.2.0)\n",
      "Requirement already satisfied: pyproject_hooks in c:\\users\\82104\\vscodeprojects\\llm\\inflearn-llm-application\\lib\\site-packages (from build>=1.0.3->chromadb>=1.0.9->langchain-chroma) (1.2.0)\n",
      "Requirement already satisfied: grpcio-status<2.0.0,>=1.33.2 in c:\\users\\82104\\vscodeprojects\\llm\\inflearn-llm-application\\lib\\site-packages (from google-api-core->google-generativeai) (1.71.0)\n",
      "Requirement already satisfied: pyparsing!=3.0.0,!=3.0.1,!=3.0.2,!=3.0.3,<4,>=2.4.2 in c:\\users\\82104\\vscodeprojects\\llm\\inflearn-llm-application\\lib\\site-packages (from httplib2<1.0.0,>=0.19.0->google-api-python-client->google-generativeai) (3.2.3)\n",
      "Requirement already satisfied: anyio in c:\\users\\82104\\vscodeprojects\\llm\\inflearn-llm-application\\lib\\site-packages (from httpx>=0.27.0->chromadb>=1.0.9->langchain-chroma) (4.9.0)\n",
      "Requirement already satisfied: httpcore==1.* in c:\\users\\82104\\vscodeprojects\\llm\\inflearn-llm-application\\lib\\site-packages (from httpx>=0.27.0->chromadb>=1.0.9->langchain-chroma) (1.0.9)\n",
      "Requirement already satisfied: h11>=0.16 in c:\\users\\82104\\vscodeprojects\\llm\\inflearn-llm-application\\lib\\site-packages (from httpcore==1.*->httpx>=0.27.0->chromadb>=1.0.9->langchain-chroma) (0.16.0)\n",
      "Requirement already satisfied: jsonpointer>=1.9 in c:\\users\\82104\\vscodeprojects\\llm\\inflearn-llm-application\\lib\\site-packages (from jsonpatch<2.0,>=1.33->langchain-core<1.0.0,>=0.3.66->langchain_community) (3.0.0)\n",
      "Requirement already satisfied: jsonschema-specifications>=2023.03.6 in c:\\users\\82104\\vscodeprojects\\llm\\inflearn-llm-application\\lib\\site-packages (from jsonschema>=4.19.0->chromadb>=1.0.9->langchain-chroma) (2025.4.1)\n",
      "Requirement already satisfied: referencing>=0.28.4 in c:\\users\\82104\\vscodeprojects\\llm\\inflearn-llm-application\\lib\\site-packages (from jsonschema>=4.19.0->chromadb>=1.0.9->langchain-chroma) (0.36.2)\n",
      "Requirement already satisfied: rpds-py>=0.7.1 in c:\\users\\82104\\vscodeprojects\\llm\\inflearn-llm-application\\lib\\site-packages (from jsonschema>=4.19.0->chromadb>=1.0.9->langchain-chroma) (0.25.1)\n",
      "Requirement already satisfied: six>=1.9.0 in c:\\users\\82104\\vscodeprojects\\llm\\inflearn-llm-application\\lib\\site-packages (from kubernetes>=28.1.0->chromadb>=1.0.9->langchain-chroma) (1.17.0)\n",
      "Requirement already satisfied: python-dateutil>=2.5.3 in c:\\users\\82104\\vscodeprojects\\llm\\inflearn-llm-application\\lib\\site-packages (from kubernetes>=28.1.0->chromadb>=1.0.9->langchain-chroma) (2.9.0.post0)\n",
      "Requirement already satisfied: websocket-client!=0.40.0,!=0.41.*,!=0.42.*,>=0.32.0 in c:\\users\\82104\\vscodeprojects\\llm\\inflearn-llm-application\\lib\\site-packages (from kubernetes>=28.1.0->chromadb>=1.0.9->langchain-chroma) (1.8.0)\n",
      "Requirement already satisfied: requests-oauthlib in c:\\users\\82104\\vscodeprojects\\llm\\inflearn-llm-application\\lib\\site-packages (from kubernetes>=28.1.0->chromadb>=1.0.9->langchain-chroma) (2.0.0)\n",
      "Requirement already satisfied: oauthlib>=3.2.2 in c:\\users\\82104\\vscodeprojects\\llm\\inflearn-llm-application\\lib\\site-packages (from kubernetes>=28.1.0->chromadb>=1.0.9->langchain-chroma) (3.3.1)\n",
      "Requirement already satisfied: durationpy>=0.7 in c:\\users\\82104\\vscodeprojects\\llm\\inflearn-llm-application\\lib\\site-packages (from kubernetes>=28.1.0->chromadb>=1.0.9->langchain-chroma) (0.10)\n",
      "Requirement already satisfied: coloredlogs in c:\\users\\82104\\vscodeprojects\\llm\\inflearn-llm-application\\lib\\site-packages (from onnxruntime>=1.14.1->chromadb>=1.0.9->langchain-chroma) (15.0.1)\n",
      "Requirement already satisfied: flatbuffers in c:\\users\\82104\\vscodeprojects\\llm\\inflearn-llm-application\\lib\\site-packages (from onnxruntime>=1.14.1->chromadb>=1.0.9->langchain-chroma) (25.2.10)\n",
      "Requirement already satisfied: sympy in c:\\users\\82104\\vscodeprojects\\llm\\inflearn-llm-application\\lib\\site-packages (from onnxruntime>=1.14.1->chromadb>=1.0.9->langchain-chroma) (1.14.0)\n",
      "Requirement already satisfied: importlib-metadata<8.8.0,>=6.0 in c:\\users\\82104\\vscodeprojects\\llm\\inflearn-llm-application\\lib\\site-packages (from opentelemetry-api>=1.2.0->chromadb>=1.0.9->langchain-chroma) (8.7.0)\n",
      "Requirement already satisfied: opentelemetry-exporter-otlp-proto-common==1.34.1 in c:\\users\\82104\\vscodeprojects\\llm\\inflearn-llm-application\\lib\\site-packages (from opentelemetry-exporter-otlp-proto-grpc>=1.2.0->chromadb>=1.0.9->langchain-chroma) (1.34.1)\n",
      "Requirement already satisfied: opentelemetry-proto==1.34.1 in c:\\users\\82104\\vscodeprojects\\llm\\inflearn-llm-application\\lib\\site-packages (from opentelemetry-exporter-otlp-proto-grpc>=1.2.0->chromadb>=1.0.9->langchain-chroma) (1.34.1)\n",
      "Requirement already satisfied: opentelemetry-semantic-conventions==0.55b1 in c:\\users\\82104\\vscodeprojects\\llm\\inflearn-llm-application\\lib\\site-packages (from opentelemetry-sdk>=1.2.0->chromadb>=1.0.9->langchain-chroma) (0.55b1)\n",
      "Requirement already satisfied: backoff>=1.10.0 in c:\\users\\82104\\vscodeprojects\\llm\\inflearn-llm-application\\lib\\site-packages (from posthog>=2.4.0->chromadb>=1.0.9->langchain-chroma) (2.2.1)\n",
      "Requirement already satisfied: distro>=1.5.0 in c:\\users\\82104\\vscodeprojects\\llm\\inflearn-llm-application\\lib\\site-packages (from posthog>=2.4.0->chromadb>=1.0.9->langchain-chroma) (1.9.0)\n",
      "Requirement already satisfied: pyasn1<0.7.0,>=0.6.1 in c:\\users\\82104\\vscodeprojects\\llm\\inflearn-llm-application\\lib\\site-packages (from pyasn1-modules>=0.2.1->google-auth>=2.15.0->google-generativeai) (0.6.1)\n",
      "Requirement already satisfied: markdown-it-py>=2.2.0 in c:\\users\\82104\\vscodeprojects\\llm\\inflearn-llm-application\\lib\\site-packages (from rich>=10.11.0->chromadb>=1.0.9->langchain-chroma) (3.0.0)\n",
      "Requirement already satisfied: pygments<3.0.0,>=2.13.0 in c:\\users\\82104\\vscodeprojects\\llm\\inflearn-llm-application\\lib\\site-packages (from rich>=10.11.0->chromadb>=1.0.9->langchain-chroma) (2.19.2)\n",
      "Requirement already satisfied: huggingface-hub<1.0,>=0.16.4 in c:\\users\\82104\\vscodeprojects\\llm\\inflearn-llm-application\\lib\\site-packages (from tokenizers>=0.13.2->chromadb>=1.0.9->langchain-chroma) (0.34.3)\n",
      "Requirement already satisfied: click>=8.0.0 in c:\\users\\82104\\vscodeprojects\\llm\\inflearn-llm-application\\lib\\site-packages (from typer>=0.9.0->chromadb>=1.0.9->langchain-chroma) (8.2.1)\n",
      "Requirement already satisfied: shellingham>=1.3.0 in c:\\users\\82104\\vscodeprojects\\llm\\inflearn-llm-application\\lib\\site-packages (from typer>=0.9.0->chromadb>=1.0.9->langchain-chroma) (1.5.4)\n",
      "Requirement already satisfied: mypy-extensions>=0.3.0 in c:\\users\\82104\\vscodeprojects\\llm\\inflearn-llm-application\\lib\\site-packages (from typing-inspect<1,>=0.4.0->dataclasses-json<0.7,>=0.5.7->langchain_community) (1.1.0)\n",
      "Requirement already satisfied: httptools>=0.6.3 in c:\\users\\82104\\vscodeprojects\\llm\\inflearn-llm-application\\lib\\site-packages (from uvicorn[standard]>=0.18.3->chromadb>=1.0.9->langchain-chroma) (0.6.4)\n",
      "Requirement already satisfied: watchfiles>=0.13 in c:\\users\\82104\\vscodeprojects\\llm\\inflearn-llm-application\\lib\\site-packages (from uvicorn[standard]>=0.18.3->chromadb>=1.0.9->langchain-chroma) (1.1.0)\n",
      "Requirement already satisfied: websockets>=10.4 in c:\\users\\82104\\vscodeprojects\\llm\\inflearn-llm-application\\lib\\site-packages (from uvicorn[standard]>=0.18.3->chromadb>=1.0.9->langchain-chroma) (15.0.1)\n",
      "Requirement already satisfied: filelock in c:\\users\\82104\\vscodeprojects\\llm\\inflearn-llm-application\\lib\\site-packages (from huggingface-hub<1.0,>=0.16.4->tokenizers>=0.13.2->chromadb>=1.0.9->langchain-chroma) (3.18.0)\n",
      "Requirement already satisfied: fsspec>=2023.5.0 in c:\\users\\82104\\vscodeprojects\\llm\\inflearn-llm-application\\lib\\site-packages (from huggingface-hub<1.0,>=0.16.4->tokenizers>=0.13.2->chromadb>=1.0.9->langchain-chroma) (2025.5.1)\n",
      "Requirement already satisfied: zipp>=3.20 in c:\\users\\82104\\vscodeprojects\\llm\\inflearn-llm-application\\lib\\site-packages (from importlib-metadata<8.8.0,>=6.0->opentelemetry-api>=1.2.0->chromadb>=1.0.9->langchain-chroma) (3.23.0)\n",
      "Requirement already satisfied: mdurl~=0.1 in c:\\users\\82104\\vscodeprojects\\llm\\inflearn-llm-application\\lib\\site-packages (from markdown-it-py>=2.2.0->rich>=10.11.0->chromadb>=1.0.9->langchain-chroma) (0.1.2)\n",
      "Requirement already satisfied: sniffio>=1.1 in c:\\users\\82104\\vscodeprojects\\llm\\inflearn-llm-application\\lib\\site-packages (from anyio->httpx>=0.27.0->chromadb>=1.0.9->langchain-chroma) (1.3.1)\n",
      "Requirement already satisfied: humanfriendly>=9.1 in c:\\users\\82104\\vscodeprojects\\llm\\inflearn-llm-application\\lib\\site-packages (from coloredlogs->onnxruntime>=1.14.1->chromadb>=1.0.9->langchain-chroma) (10.0)\n",
      "Requirement already satisfied: mpmath<1.4,>=1.1.0 in c:\\users\\82104\\vscodeprojects\\llm\\inflearn-llm-application\\lib\\site-packages (from sympy->onnxruntime>=1.14.1->chromadb>=1.0.9->langchain-chroma) (1.3.0)\n",
      "Requirement already satisfied: pyreadline3 in c:\\users\\82104\\vscodeprojects\\llm\\inflearn-llm-application\\lib\\site-packages (from humanfriendly>=9.1->coloredlogs->onnxruntime>=1.14.1->chromadb>=1.0.9->langchain-chroma) (3.5.4)\n",
      "Note: you may need to restart the kernel to use updated packages.\n"
     ]
    },
    {
     "name": "stderr",
     "output_type": "stream",
     "text": [
      "\n",
      "[notice] A new release of pip is available: 23.2.1 -> 25.2\n",
      "[notice] To update, run: python.exe -m pip install --upgrade pip\n"
     ]
    }
   ],
   "source": [
    "%pip install python-dotenv docx2txt langchain_community langchain-text-splitters langchain-chroma google-generativeai langchain-google-genai"
   ]
  },
  {
   "cell_type": "code",
   "execution_count": 2,
   "metadata": {},
   "outputs": [],
   "source": [
    "from langchain_community.document_loaders import Docx2txtLoader\n",
    "from langchain_text_splitters import RecursiveCharacterTextSplitter\n",
    "\n",
    "text_splitter = RecursiveCharacterTextSplitter(\n",
    "    chunk_size=1500,\n",
    "    chunk_overlap=200,\n",
    ")\n",
    "\n",
    "loader = Docx2txtLoader(\"./tax.docx\")\n",
    "document_list = loader.load_and_split(text_splitter=text_splitter)\n"
   ]
  },
  {
   "cell_type": "code",
   "execution_count": 4,
   "metadata": {},
   "outputs": [],
   "source": [
    "from dotenv import load_dotenv\n",
    "from langchain_google_genai import GoogleGenerativeAIEmbeddings\n",
    "import os\n",
    "\n",
    "load_dotenv()\n",
    "os.environ[\"GOOGLE_API_KEY\"] = os.getenv(\"GOOGLE_API_KEY\")\n",
    "embedding = GoogleGenerativeAIEmbeddings(model=\"models/embedding-001\") \n"
   ]
  },
  {
   "cell_type": "code",
   "execution_count": 5,
   "metadata": {},
   "outputs": [],
   "source": [
    "from langchain_chroma import Chroma\n",
    "\n",
    "# 데이터를 처음 저장할 때 \n",
    "# database = Chroma.from_documents(documents=document_list, embedding=embedding, collection_name='chroma-tax', persist_directory=\"./chroma\")\n",
    "\n",
    "# 이미 저장된 데이터를 사용할 때 \n",
    "database = Chroma(collection_name='chroma-tax', persist_directory=\"./chroma\", embedding_function=embedding)"
   ]
  },
  {
   "cell_type": "code",
   "execution_count": 12,
   "metadata": {},
   "outputs": [
    {
     "data": {
      "text/plain": [
       "[Document(id='b886ec4c-2535-4516-89a8-566022dad689', metadata={'source': './tax.docx'}, page_content='제55조(세율) ①거주자의 종합소득에 대한 소득세는 해당 연도의 종합소득과세표준에 다음의 세율을 적용하여 계산한 금액(이하 “종합소득산출세액”이라 한다)을 그 세액으로 한다. <개정 2014. 1. 1., 2016. 12. 20., 2017. 12. 19., 2020. 12. 29., 2022. 12. 31.>\\n\\n| 종합소득 과세표준        | 세율                                                      |\\n\\n|----------------------|-----------------------------------------------------------|\\n\\n| 1,400만원 이하        | 과세표준의 6퍼센트                                            |\\n\\n| 1,400만원 초과 5,000만원 이하 | 84만원 + (1,400만원을 초과하는 금액의 15퍼센트)                     |\\n\\n| 5,000만원 초과 8,800만원 이하 | 624만원 + (5,000만원을 초과하는 금액의 24퍼센트)                    |\\n\\n| 8,800만원 초과 1억5천만원 이하 | 1,536만원 + (8,800만원을 초과하는 금액의 35퍼센트)                   |\\n\\n| 1억5천만원 초과 3억원 이하   | 3,706만원 + (1억5천만원을 초과하는 금액의 38퍼센트)                  |\\n\\n| 3억원 초과 5억원 이하     | 9,406만원 + (3억원을 초과하는 금액의 40퍼센트)                     |\\n\\n| 5억원 초과 10억원 이하    | 1억7,406만원 + (5억원을 초과하는 금액의 42퍼센트)                    |\\n\\n| 10억원 초과          | 3억8,406만원 + (10억원을 초과하는 금액의 45퍼센트)                   |\\n\\n\\n\\n\\n\\n② 거주자의 퇴직소득에 대한 소득세는 다음 각 호의 순서에 따라 계산한 금액(이하 “퇴직소득 산출세액”이라 한다)으로 한다.<개정 2013. 1. 1., 2014. 12. 23.>\\n\\n1. 해당 과세기간의 퇴직소득과세표준에 제1항의 세율을 적용하여 계산한 금액\\n\\n2. 제1호의 금액을 12로 나눈 금액에 근속연수를 곱한 금액\\n\\n3. 삭제<2014. 12. 23.>\\n\\n[전문개정 2009. 12. 31.]\\n\\n\\n\\n제2관 세액공제 <개정 2009. 12. 31.>\\n\\n\\n\\n제56조(배당세액공제) ① 거주자의 종합소득금액에 제17조제3항 각 호 외의 부분 단서가 적용되는 배당소득금액이 합산되어 있는 경우에는 같은 항 각 호 외의 부분 단서에 따라 해당 과세기간의 총수입금액에 더한 금액에 해당하는 금액을 종합소득 산출세액에서 공제한다. <개정 2009. 12. 31.>\\n\\n② 제1항에 따른 공제를 “배당세액공제”라 한다.<개정 2009. 12. 31.>\\n\\n③ 삭제<2003. 12. 30.>'),\n",
       " Document(id='1c768f86-30bd-48ac-9558-5eb4c0b52275', metadata={'source': './tax.docx'}, page_content='5. 주택에 대한 「부동산 가격공시에 관한 법률」에 따른 개별주택가격 및 공동주택가격이 공시되기 전에 차입한 경우에는 차입일 이후 같은 법에 따라 최초로 공시된 가격을 해당 주택의 기준시가로 본다.\\n\\n⑥ 제5항 단서에도 불구하고 장기주택저당차입금이 다음 각 호의 어느 하나에 해당하는 경우에는 연 800만원 대신 그 해당 각 호의 금액을 공제한도로 하여 제5항 본문을 적용한다.<신설 2014. 12. 23., 2023. 12. 31.>\\n\\n1. 차입금의 상환기간이 15년 이상인 장기주택저당차입금의 이자를 대통령령으로 정하는 고정금리 방식(이하 이 항에서 “고정금리”라 한다)으로 지급하고, 그 차입금을 대통령령으로 정하는 비거치식 분할상환 방식(이하 이 항에서 “비거치식 분할상환”이라 한다)으로 상환하는 경우: 2천만원\\n\\n2. 차입금의 상환기간이 15년 이상인 장기주택저당차입금의 이자를 고정금리로 지급하거나 그 차입금을 비거치식 분할상환으로 상환하는 경우: 1천800만원\\n\\n3. 차입금의 상환기간이 10년 이상인 장기주택저당차입금의 이자를 고정금리로 지급하거나 그 차입금을 비거치식 분할상환으로 상환하는 경우: 600만원\\n\\n⑦ 삭제<2014. 1. 1.>\\n\\n⑧ 제1항ㆍ제4항 및 제5항에 따른 공제는 해당 거주자가 대통령령으로 정하는 바에 따라 신청한 경우에 적용하며, 공제액이 그 거주자의 해당 과세기간의 합산과세되는 종합소득금액을 초과하는 경우 그 초과하는 금액은 없는 것으로 한다.<개정 2012. 1. 1., 2014. 1. 1.>\\n\\n1. 삭제<2014. 1. 1.>\\n\\n2. 삭제<2014. 1. 1.>\\n\\n⑨ 삭제<2014. 1. 1.>\\n\\n⑩ 제1항ㆍ제4항ㆍ제5항 및 제8항에 따른 공제를 “특별소득공제”라 한다.<개정 2014. 1. 1.>\\n\\n⑪ 특별소득공제에 관하여 그 밖에 필요한 사항은 대통령령으로 정한다.<개정 2014. 1. 1.>\\n\\n[전문개정 2009. 12. 31.]\\n\\n[제목개정 2014. 1. 1.]\\n\\n\\n\\n제53조(생계를 같이 하는 부양가족의 범위와 그 판정시기) ① 제50조에 규정된 생계를 같이 하는 부양가족은 주민등록표의 동거가족으로서 해당 거주자의 주소 또는 거소에서 현실적으로 생계를 같이 하는 사람으로 한다. 다만, 직계비속ㆍ입양자의 경우에는 그러하지 아니하다.\\n\\n② 거주자 또는 동거가족(직계비속ㆍ입양자는 제외한다)이 취학ㆍ질병의 요양, 근무상 또는 사업상의 형편 등으로 본래의 주소 또는 거소에서 일시 퇴거한 경우에도 대통령령으로 정하는 사유에 해당할 때에는 제1항의 생계를 같이 하는 사람으로 본다.\\n\\n③ 거주자의 부양가족 중 거주자(그 배우자를 포함한다)의 직계존속이 주거 형편에 따라 별거하고 있는 경우에는 제1항에도 불구하고 제50조에서 규정하는 생계를 같이 하는 사람으로 본다.'),\n",
       " Document(id='16cab02d-41e3-446f-8181-4ae4412c95f3', metadata={'source': './tax.docx'}, page_content='1. 제51조제3항에 따른 인적공제\\n\\n2. 이 조에 따른 연금보험료공제\\n\\n3. 제51조의4에 따른 주택담보노후연금 이자비용공제\\n\\n4. 제52조에 따른 특별소득공제\\n\\n5. 「조세특례제한법」에 따른 소득공제\\n\\n⑤ 삭제<2014. 1. 1.>\\n\\n[전문개정 2009. 12. 31.]\\n\\n\\n\\n제51조의4(주택담보노후연금 이자비용공제) ① 연금소득이 있는 거주자가 대통령령으로 정하는 요건에 해당하는 주택담보노후연금을 받은 경우에는 그 받은 연금에 대해서 해당 과세기간에 발생한 이자비용 상당액을 해당 과세기간 연금소득금액에서 공제(이하 “주택담보노후연금 이자비용공제”라 한다)한다. 이 경우 공제할 이자 상당액이 200만원을 초과하는 경우에는 200만원을 공제하고, 연금소득금액을 초과하는 경우 그 초과금액은 없는 것으로 한다.\\n\\n② 주택담보노후연금 이자비용공제는 해당 거주자가 신청한 경우에 적용한다.\\n\\n③ 주택담보노후연금 이자비용공제의 신청, 이자 상당액의 확인방법, 그 밖에 필요한 사항은 대통령령으로 정한다.\\n\\n[전문개정 2009. 12. 31.]\\n\\n\\n\\n제52조(특별소득공제) ① 근로소득이 있는 거주자(일용근로자는 제외한다. 이하 이 조에서 같다)가 해당 과세기간에 「국민건강보험법」, 「고용보험법」 또는 「노인장기요양보험법」에 따라 근로자가 부담하는 보험료를 지급한 경우 그 금액을 해당 과세기간의 근로소득금액에서 공제한다. <개정 2014. 1. 1.>\\n\\n1. 삭제<2014. 1. 1.>\\n\\n2. 삭제<2014. 1. 1.>\\n\\n② 삭제<2014. 1. 1.>\\n\\n③ 삭제<2014. 1. 1.>\\n\\n④ 과세기간 종료일 현재 주택을 소유하지 아니한 대통령령으로 정하는 세대(이하 이 항 및 제5항에서 “세대”라 한다)의 세대주(세대주가 이 항, 제5항 및 「조세특례제한법」 제87조제2항에 따른 공제를 받지 아니하는 경우에는 세대의 구성원을 말하며, 대통령령으로 정하는 외국인을 포함한다)로서 근로소득이 있는 거주자가 대통령령으로 정하는 일정 규모 이하의 주택(주거에 사용하는 오피스텔과 주택 및 오피스텔에 딸린 토지를 포함하며, 그 딸린 토지가 건물이 정착된 면적에 지역별로 대통령령으로 정하는 배율을 곱하여 산정한 면적을 초과하는 경우 해당 주택 및 오피스텔은 제외한다)을 임차하기 위하여 대통령령으로 정하는 주택임차자금 차입금의 원리금 상환액을 지급하는 경우에는 그 금액의 100분의 40에 해당하는 금액을 해당 과세기간의 근로소득금액에서 공제한다. 다만, 그 공제하는 금액과 「조세특례제한법」 제87조제2항에 따른 금액의 합계액이 연 400만원을 초과하는 경우 그 초과하는 금액(이하 이 항에서 “한도초과금액”이라 한다)은 없는 것으로 한다.<개정 2012. 1. 1., 2013. 1. 1., 2013. 8. 13., 2014. 1. 1., 2014. 12. 23., 2020. 12. 29., 2022. 12. 31.>\\n\\n1. 삭제<2014. 12. 23.>\\n\\n2. 삭제<2014. 12. 23.>'),\n",
       " Document(id='489ceddf-3f94-4494-b02a-9c7316e546ca', metadata={'source': './tax.docx'}, page_content='3. 총급여액이 7천만원 초과 1억2천만원 이하인 경우: 66만원 - [(총급여액 - 7천만원) × 1/2]. 다만, 위 금액이 50만원보다 적은 경우에는 50만원으로 한다.\\n\\n4. 총급여액이 1억2천만원을 초과하는 경우: 50만원 - [(총급여액 - 1억2천만원) × 1/2]. 다만, 위 금액이 20만원보다 적은 경우에는 20만원으로 한다.\\n\\n③ 일용근로자의 근로소득에 대해서 제134조제3항에 따른 원천징수를 하는 경우에는 해당 근로소득에 대한 산출세액의 100분의 55에 해당하는 금액을 그 산출세액에서 공제한다.<개정 2014. 1. 1.>\\n\\n[전문개정 2012. 1. 1.]\\n\\n\\n\\n제59조의2(자녀세액공제) ①종합소득이 있는 거주자의 기본공제대상자에 해당하는 자녀(입양자 및 위탁아동을 포함하며, 이하 이 조에서 “공제대상자녀”라 한다) 및 손자녀로서 8세 이상의 사람에 대해서는 다음 각 호의 구분에 따른 금액을 종합소득산출세액에서 공제한다. <개정 2015. 5. 13., 2017. 12. 19., 2018. 12. 31., 2019. 12. 31., 2022. 12. 31., 2023. 12. 31., 2024. 12. 31.>\\n\\n1. 1명인 경우: 연 25만원\\n\\n2. 2명인 경우: 연 55만원\\n\\n3. 3명 이상인 경우: 연 55만원과 2명을 초과하는 1명당 연 40만원을 합한 금액\\n\\n② 삭제<2017. 12. 19.>\\n\\n③ 해당 과세기간에 출산하거나 입양 신고한 공제대상자녀가 있는 경우 다음 각 호의 구분에 따른 금액을 종합소득산출세액에서 공제한다.<신설 2015. 5. 13., 2016. 12. 20.>\\n\\n1. 출산하거나 입양 신고한 공제대상자녀가 첫째인 경우: 연 30만원\\n\\n2. 출산하거나 입양 신고한 공제대상자녀가 둘째인 경우: 연 50만원\\n\\n3. 출산하거나 입양 신고한 공제대상자녀가 셋째 이상인 경우: 연 70만원\\n\\n④ 제1항 및 제3항에 따른 공제를 “자녀세액공제”라 한다.<신설 2015. 5. 13., 2017. 12. 19.>\\n\\n[본조신설 2014. 1. 1.]\\n\\n[종전 제59조의2는 제59조의5로 이동 <2014. 1. 1.>]')]"
      ]
     },
     "execution_count": 12,
     "metadata": {},
     "output_type": "execute_result"
    }
   ],
   "source": [
    "query = '제 55조를 근거로 5천만원의 거주자에 대한 소득세는 얼마인가요?'\n",
    "\n",
    "# `k` 값을 조절해서 얼마나 많은 데이터를 불러올지 결정\n",
    "retrieved_docs = database.similarity_search(query)\n",
    "retrieved_docs"
   ]
  },
  {
   "cell_type": "code",
   "execution_count": 13,
   "metadata": {},
   "outputs": [],
   "source": [
    "from langchain_google_genai import ChatGoogleGenerativeAI\n",
    "\n",
    "llm = ChatGoogleGenerativeAI(model='gemini-2.0-flash', temperature=0.9)"
   ]
  },
  {
   "cell_type": "code",
   "execution_count": 14,
   "metadata": {},
   "outputs": [
    {
     "name": "stderr",
     "output_type": "stream",
     "text": [
      "c:\\Users\\82104\\VscodeProjects\\LLM\\inflearn-llm-application\\Lib\\site-packages\\langsmith\\client.py:272: LangSmithMissingAPIKeyWarning: API key must be provided when using hosted LangSmith API\n",
      "  warnings.warn(\n"
     ]
    }
   ],
   "source": [
    "from langchain import hub\n",
    "\n",
    "prompt = hub.pull(\"rlm/rag-prompt\")"
   ]
  },
  {
   "cell_type": "code",
   "execution_count": 15,
   "metadata": {},
   "outputs": [],
   "source": [
    "from langchain.chains import RetrievalQA\n",
    "\n",
    "qa_chain = RetrievalQA.from_chain_type(\n",
    "    llm, \n",
    "    retriever=database.as_retriever(),\n",
    "    chain_type_kwargs={\"prompt\": prompt}\n",
    ")"
   ]
  },
  {
   "cell_type": "code",
   "execution_count": 16,
   "metadata": {},
   "outputs": [
    {
     "name": "stderr",
     "output_type": "stream",
     "text": [
      "C:\\Users\\82104\\AppData\\Local\\Temp\\ipykernel_15136\\3455095564.py:1: LangChainDeprecationWarning: The method `Chain.__call__` was deprecated in langchain 0.1.0 and will be removed in 1.0. Use :meth:`~invoke` instead.\n",
      "  ai_message = qa_chain({\"query\": query})\n"
     ]
    }
   ],
   "source": [
    "ai_message = qa_chain({\"query\": query})"
   ]
  },
  {
   "cell_type": "code",
   "execution_count": 17,
   "metadata": {},
   "outputs": [
    {
     "data": {
      "text/plain": [
       "{'query': '제 55조를 근거로 5천만원의 거주자에 대한 소득세는 얼마인가요?',\n",
       " 'result': '5천만원의 거주자에 대한 소득세는 624만원 + (5,000만원을 초과하는 금액의 24퍼센트)로 계산됩니다. 5천만원은 종합소득 과세표준 5,000만원 초과 8,800만원 이하 구간에 해당됩니다.'}"
      ]
     },
     "execution_count": 17,
     "metadata": {},
     "output_type": "execute_result"
    }
   ],
   "source": [
    "ai_message"
   ]
  }
 ],
 "metadata": {
  "kernelspec": {
   "display_name": "inflearn-llm-application",
   "language": "python",
   "name": "python3"
  },
  "language_info": {
   "codemirror_mode": {
    "name": "ipython",
    "version": 3
   },
   "file_extension": ".py",
   "mimetype": "text/x-python",
   "name": "python",
   "nbconvert_exporter": "python",
   "pygments_lexer": "ipython3",
   "version": "3.11.6"
  }
 },
 "nbformat": 4,
 "nbformat_minor": 2
}
