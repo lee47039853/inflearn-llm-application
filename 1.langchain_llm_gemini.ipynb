{
 "cells": [
  {
   "cell_type": "code",
   "execution_count": 9,
   "metadata": {},
   "outputs": [
    {
     "name": "stdout",
     "output_type": "stream",
     "text": [
      "Requirement already satisfied: langchain-openai in c:\\users\\82104\\vscodeprojects\\llm\\inflearn-llm-application\\lib\\site-packages (0.3.24)\n",
      "Requirement already satisfied: google-generativeai in c:\\users\\82104\\vscodeprojects\\llm\\inflearn-llm-application\\lib\\site-packages (0.8.5)\n",
      "Requirement already satisfied: langchain-google-genai in c:\\users\\82104\\vscodeprojects\\llm\\inflearn-llm-application\\lib\\site-packages (2.0.10)\n",
      "Requirement already satisfied: python-dotenv in c:\\users\\82104\\vscodeprojects\\llm\\inflearn-llm-application\\lib\\site-packages (1.1.0)\n",
      "Requirement already satisfied: langchain-core<1.0.0,>=0.3.65 in c:\\users\\82104\\vscodeprojects\\llm\\inflearn-llm-application\\lib\\site-packages (from langchain-openai) (0.3.66)\n",
      "Requirement already satisfied: openai<2.0.0,>=1.86.0 in c:\\users\\82104\\vscodeprojects\\llm\\inflearn-llm-application\\lib\\site-packages (from langchain-openai) (1.90.0)\n",
      "Requirement already satisfied: tiktoken<1,>=0.7 in c:\\users\\82104\\vscodeprojects\\llm\\inflearn-llm-application\\lib\\site-packages (from langchain-openai) (0.9.0)\n",
      "Requirement already satisfied: google-ai-generativelanguage==0.6.15 in c:\\users\\82104\\vscodeprojects\\llm\\inflearn-llm-application\\lib\\site-packages (from google-generativeai) (0.6.15)\n",
      "Requirement already satisfied: google-api-core in c:\\users\\82104\\vscodeprojects\\llm\\inflearn-llm-application\\lib\\site-packages (from google-generativeai) (2.25.1)\n",
      "Requirement already satisfied: google-api-python-client in c:\\users\\82104\\vscodeprojects\\llm\\inflearn-llm-application\\lib\\site-packages (from google-generativeai) (2.173.0)\n",
      "Requirement already satisfied: google-auth>=2.15.0 in c:\\users\\82104\\vscodeprojects\\llm\\inflearn-llm-application\\lib\\site-packages (from google-generativeai) (2.40.3)\n",
      "Requirement already satisfied: protobuf in c:\\users\\82104\\vscodeprojects\\llm\\inflearn-llm-application\\lib\\site-packages (from google-generativeai) (5.29.5)\n",
      "Requirement already satisfied: pydantic in c:\\users\\82104\\vscodeprojects\\llm\\inflearn-llm-application\\lib\\site-packages (from google-generativeai) (2.11.7)\n",
      "Requirement already satisfied: tqdm in c:\\users\\82104\\vscodeprojects\\llm\\inflearn-llm-application\\lib\\site-packages (from google-generativeai) (4.67.1)\n",
      "Requirement already satisfied: typing-extensions in c:\\users\\82104\\vscodeprojects\\llm\\inflearn-llm-application\\lib\\site-packages (from google-generativeai) (4.14.0)\n",
      "Requirement already satisfied: proto-plus<2.0.0dev,>=1.22.3 in c:\\users\\82104\\vscodeprojects\\llm\\inflearn-llm-application\\lib\\site-packages (from google-ai-generativelanguage==0.6.15->google-generativeai) (1.26.1)\n",
      "Requirement already satisfied: filetype<2.0.0,>=1.2.0 in c:\\users\\82104\\vscodeprojects\\llm\\inflearn-llm-application\\lib\\site-packages (from langchain-google-genai) (1.2.0)\n",
      "Requirement already satisfied: cachetools<6.0,>=2.0.0 in c:\\users\\82104\\vscodeprojects\\llm\\inflearn-llm-application\\lib\\site-packages (from google-auth>=2.15.0->google-generativeai) (5.5.2)\n",
      "Requirement already satisfied: pyasn1-modules>=0.2.1 in c:\\users\\82104\\vscodeprojects\\llm\\inflearn-llm-application\\lib\\site-packages (from google-auth>=2.15.0->google-generativeai) (0.4.2)\n",
      "Requirement already satisfied: rsa<5,>=3.1.4 in c:\\users\\82104\\vscodeprojects\\llm\\inflearn-llm-application\\lib\\site-packages (from google-auth>=2.15.0->google-generativeai) (4.9.1)\n",
      "Requirement already satisfied: langsmith>=0.3.45 in c:\\users\\82104\\vscodeprojects\\llm\\inflearn-llm-application\\lib\\site-packages (from langchain-core<1.0.0,>=0.3.65->langchain-openai) (0.4.1)\n",
      "Requirement already satisfied: tenacity!=8.4.0,<10.0.0,>=8.1.0 in c:\\users\\82104\\vscodeprojects\\llm\\inflearn-llm-application\\lib\\site-packages (from langchain-core<1.0.0,>=0.3.65->langchain-openai) (9.1.2)\n",
      "Requirement already satisfied: jsonpatch<2.0,>=1.33 in c:\\users\\82104\\vscodeprojects\\llm\\inflearn-llm-application\\lib\\site-packages (from langchain-core<1.0.0,>=0.3.65->langchain-openai) (1.33)\n",
      "Requirement already satisfied: PyYAML>=5.3 in c:\\users\\82104\\vscodeprojects\\llm\\inflearn-llm-application\\lib\\site-packages (from langchain-core<1.0.0,>=0.3.65->langchain-openai) (6.0.2)\n",
      "Requirement already satisfied: packaging<25,>=23.2 in c:\\users\\82104\\vscodeprojects\\llm\\inflearn-llm-application\\lib\\site-packages (from langchain-core<1.0.0,>=0.3.65->langchain-openai) (24.2)\n",
      "Requirement already satisfied: anyio<5,>=3.5.0 in c:\\users\\82104\\vscodeprojects\\llm\\inflearn-llm-application\\lib\\site-packages (from openai<2.0.0,>=1.86.0->langchain-openai) (4.9.0)\n",
      "Requirement already satisfied: distro<2,>=1.7.0 in c:\\users\\82104\\vscodeprojects\\llm\\inflearn-llm-application\\lib\\site-packages (from openai<2.0.0,>=1.86.0->langchain-openai) (1.9.0)\n",
      "Requirement already satisfied: httpx<1,>=0.23.0 in c:\\users\\82104\\vscodeprojects\\llm\\inflearn-llm-application\\lib\\site-packages (from openai<2.0.0,>=1.86.0->langchain-openai) (0.28.1)\n",
      "Requirement already satisfied: jiter<1,>=0.4.0 in c:\\users\\82104\\vscodeprojects\\llm\\inflearn-llm-application\\lib\\site-packages (from openai<2.0.0,>=1.86.0->langchain-openai) (0.10.0)\n",
      "Requirement already satisfied: sniffio in c:\\users\\82104\\vscodeprojects\\llm\\inflearn-llm-application\\lib\\site-packages (from openai<2.0.0,>=1.86.0->langchain-openai) (1.3.1)\n",
      "Requirement already satisfied: annotated-types>=0.6.0 in c:\\users\\82104\\vscodeprojects\\llm\\inflearn-llm-application\\lib\\site-packages (from pydantic->google-generativeai) (0.7.0)\n",
      "Requirement already satisfied: pydantic-core==2.33.2 in c:\\users\\82104\\vscodeprojects\\llm\\inflearn-llm-application\\lib\\site-packages (from pydantic->google-generativeai) (2.33.2)\n",
      "Requirement already satisfied: typing-inspection>=0.4.0 in c:\\users\\82104\\vscodeprojects\\llm\\inflearn-llm-application\\lib\\site-packages (from pydantic->google-generativeai) (0.4.1)\n",
      "Requirement already satisfied: regex>=2022.1.18 in c:\\users\\82104\\vscodeprojects\\llm\\inflearn-llm-application\\lib\\site-packages (from tiktoken<1,>=0.7->langchain-openai) (2024.11.6)\n",
      "Requirement already satisfied: requests>=2.26.0 in c:\\users\\82104\\vscodeprojects\\llm\\inflearn-llm-application\\lib\\site-packages (from tiktoken<1,>=0.7->langchain-openai) (2.32.4)\n",
      "Requirement already satisfied: colorama in c:\\users\\82104\\vscodeprojects\\llm\\inflearn-llm-application\\lib\\site-packages (from tqdm->google-generativeai) (0.4.6)\n",
      "Requirement already satisfied: googleapis-common-protos<2.0.0,>=1.56.2 in c:\\users\\82104\\vscodeprojects\\llm\\inflearn-llm-application\\lib\\site-packages (from google-api-core->google-generativeai) (1.70.0)\n",
      "Requirement already satisfied: httplib2<1.0.0,>=0.19.0 in c:\\users\\82104\\vscodeprojects\\llm\\inflearn-llm-application\\lib\\site-packages (from google-api-python-client->google-generativeai) (0.22.0)\n",
      "Requirement already satisfied: google-auth-httplib2<1.0.0,>=0.2.0 in c:\\users\\82104\\vscodeprojects\\llm\\inflearn-llm-application\\lib\\site-packages (from google-api-python-client->google-generativeai) (0.2.0)\n",
      "Requirement already satisfied: uritemplate<5,>=3.0.1 in c:\\users\\82104\\vscodeprojects\\llm\\inflearn-llm-application\\lib\\site-packages (from google-api-python-client->google-generativeai) (4.2.0)\n",
      "Requirement already satisfied: idna>=2.8 in c:\\users\\82104\\vscodeprojects\\llm\\inflearn-llm-application\\lib\\site-packages (from anyio<5,>=3.5.0->openai<2.0.0,>=1.86.0->langchain-openai) (3.10)\n",
      "Requirement already satisfied: grpcio<2.0.0,>=1.33.2 in c:\\users\\82104\\vscodeprojects\\llm\\inflearn-llm-application\\lib\\site-packages (from google-api-core->google-generativeai) (1.73.0)\n",
      "Requirement already satisfied: grpcio-status<2.0.0,>=1.33.2 in c:\\users\\82104\\vscodeprojects\\llm\\inflearn-llm-application\\lib\\site-packages (from google-api-core->google-generativeai) (1.71.0)\n",
      "Requirement already satisfied: pyparsing!=3.0.0,!=3.0.1,!=3.0.2,!=3.0.3,<4,>=2.4.2 in c:\\users\\82104\\vscodeprojects\\llm\\inflearn-llm-application\\lib\\site-packages (from httplib2<1.0.0,>=0.19.0->google-api-python-client->google-generativeai) (3.2.3)\n",
      "Requirement already satisfied: certifi in c:\\users\\82104\\vscodeprojects\\llm\\inflearn-llm-application\\lib\\site-packages (from httpx<1,>=0.23.0->openai<2.0.0,>=1.86.0->langchain-openai) (2025.6.15)\n",
      "Requirement already satisfied: httpcore==1.* in c:\\users\\82104\\vscodeprojects\\llm\\inflearn-llm-application\\lib\\site-packages (from httpx<1,>=0.23.0->openai<2.0.0,>=1.86.0->langchain-openai) (1.0.9)\n",
      "Requirement already satisfied: h11>=0.16 in c:\\users\\82104\\vscodeprojects\\llm\\inflearn-llm-application\\lib\\site-packages (from httpcore==1.*->httpx<1,>=0.23.0->openai<2.0.0,>=1.86.0->langchain-openai) (0.16.0)\n",
      "Requirement already satisfied: jsonpointer>=1.9 in c:\\users\\82104\\vscodeprojects\\llm\\inflearn-llm-application\\lib\\site-packages (from jsonpatch<2.0,>=1.33->langchain-core<1.0.0,>=0.3.65->langchain-openai) (3.0.0)\n",
      "Requirement already satisfied: orjson<4.0.0,>=3.9.14 in c:\\users\\82104\\vscodeprojects\\llm\\inflearn-llm-application\\lib\\site-packages (from langsmith>=0.3.45->langchain-core<1.0.0,>=0.3.65->langchain-openai) (3.10.18)\n",
      "Requirement already satisfied: requests-toolbelt<2.0.0,>=1.0.0 in c:\\users\\82104\\vscodeprojects\\llm\\inflearn-llm-application\\lib\\site-packages (from langsmith>=0.3.45->langchain-core<1.0.0,>=0.3.65->langchain-openai) (1.0.0)\n",
      "Requirement already satisfied: zstandard<0.24.0,>=0.23.0 in c:\\users\\82104\\vscodeprojects\\llm\\inflearn-llm-application\\lib\\site-packages (from langsmith>=0.3.45->langchain-core<1.0.0,>=0.3.65->langchain-openai) (0.23.0)\n",
      "Requirement already satisfied: pyasn1<0.7.0,>=0.6.1 in c:\\users\\82104\\vscodeprojects\\llm\\inflearn-llm-application\\lib\\site-packages (from pyasn1-modules>=0.2.1->google-auth>=2.15.0->google-generativeai) (0.6.1)\n",
      "Requirement already satisfied: charset_normalizer<4,>=2 in c:\\users\\82104\\vscodeprojects\\llm\\inflearn-llm-application\\lib\\site-packages (from requests>=2.26.0->tiktoken<1,>=0.7->langchain-openai) (3.4.2)\n",
      "Requirement already satisfied: urllib3<3,>=1.21.1 in c:\\users\\82104\\vscodeprojects\\llm\\inflearn-llm-application\\lib\\site-packages (from requests>=2.26.0->tiktoken<1,>=0.7->langchain-openai) (2.5.0)\n",
      "Note: you may need to restart the kernel to use updated packages.\n"
     ]
    },
    {
     "name": "stderr",
     "output_type": "stream",
     "text": [
      "\n",
      "[notice] A new release of pip is available: 23.2.1 -> 25.1.1\n",
      "[notice] To update, run: python.exe -m pip install --upgrade pip\n"
     ]
    }
   ],
   "source": [
    "%pip install langchain-openai google-generativeai langchain-google-genai python-dotenv"
   ]
  },
  {
   "cell_type": "code",
   "execution_count": 26,
   "metadata": {},
   "outputs": [],
   "source": [
    "import os\n",
    "from dotenv import load_dotenv\n",
    "load_dotenv(\".env\")  # .env 파일에서 환경 변수 로드\n",
    "api_key = os.getenv(\"GOOGLE_API_KEY\")  # Google API 키를 안전하게 가져오기"
   ]
  },
  {
   "cell_type": "code",
   "execution_count": 27,
   "metadata": {},
   "outputs": [],
   "source": [
    "from langchain_google_genai import ChatGoogleGenerativeAI\n",
    "\n",
    "llm = ChatGoogleGenerativeAI(model='gemini-2.0-flash', temperature=0.9)"
   ]
  },
  {
   "cell_type": "code",
   "execution_count": 31,
   "metadata": {},
   "outputs": [],
   "source": [
    "ai_message = llm.invoke('langchain_google_genai에서 무료로 사용할 수 있는 Gemini 모델을 알려주세요.')"
   ]
  },
  {
   "cell_type": "code",
   "execution_count": 32,
   "metadata": {},
   "outputs": [
    {
     "data": {
      "text/plain": [
       "'langchain_google_genai를 통해 무료로 사용할 수 있는 Gemini 모델은 현재로서는 **Gemini 1.5 Flash**입니다.\\n\\n*   **Gemini 1.5 Flash:** Gemini 1.5 Pro보다 가볍고 빠른 모델로, 비용 효율성이 뛰어나고 대규모 배포에 적합합니다. Gemini 1.5 Pro에 비해 복잡한 추론 능력은 떨어지지만, 간단한 작업이나 빠른 응답이 필요한 경우에 유용합니다.\\n\\n**중요 사항:**\\n\\n*   **무료 사용량 제한:** Google AI Studio를 통해 Gemini API를 사용할 경우, 무료 티어에는 사용량 제한이 있습니다. 이 제한을 초과하면 과금이 발생할 수 있습니다.\\n*   **API 키 필요:** Gemini API를 사용하려면 Google Cloud 프로젝트를 설정하고 API 키를 발급받아야 합니다.\\n*   **모델 업데이트:** Google은 Gemini 모델을 지속적으로 업데이트하고 있으므로, 최신 정보는 Google AI Studio 또는 Google Cloud 문서를 참고하시는 것이 좋습니다.\\n\\nlangchain_google_genai를 통해 Gemini 모델을 사용하려면, 해당 라이브러리의 문서를 참고하여 설치 및 설정을 진행해야 합니다. 또한, Google AI Studio 또는 Google Cloud 콘솔에서 API 키를 발급받아 langchain 코드에 적용해야 합니다.\\n\\n더 자세한 정보는 다음 자료를 참고하세요:\\n\\n*   **Google AI Studio:** [https://makersuite.google.com/app/apikey](https://makersuite.google.com/app/apikey)\\n*   **Gemini API 가격:** [https://ai.google.dev/pricing](https://ai.google.dev/pricing)\\n*   **Langchain Google Genai:** [https://python.langchain.com/docs/integrations/llms/google_genai](https://python.langchain.com/docs/integrations/llms/google_genai)\\n\\n**주의:** 무료 사용량 제한 및 API 키 발급 절차는 변경될 수 있으므로, 항상 최신 정보를 확인하시기 바랍니다.'"
      ]
     },
     "execution_count": 32,
     "metadata": {},
     "output_type": "execute_result"
    }
   ],
   "source": [
    "ai_message.content"
   ]
  }
 ],
 "metadata": {
  "kernelspec": {
   "display_name": "inflearn-llm-application",
   "language": "python",
   "name": "python3"
  },
  "language_info": {
   "codemirror_mode": {
    "name": "ipython",
    "version": 3
   },
   "file_extension": ".py",
   "mimetype": "text/x-python",
   "name": "python",
   "nbconvert_exporter": "python",
   "pygments_lexer": "ipython3",
   "version": "3.11.6"
  }
 },
 "nbformat": 4,
 "nbformat_minor": 2
}
